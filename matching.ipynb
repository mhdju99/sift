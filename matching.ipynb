{
 "cells": [
  {
   "cell_type": "code",
   "execution_count": 10,
   "metadata": {},
   "outputs": [],
   "source": []
  },
  {
   "cell_type": "code",
   "execution_count": 12,
   "metadata": {},
   "outputs": [],
   "source": [
    "# دالة لاستخراج السمات من صورة جديدة\n",
    "def extract_features(image_path):\n",
    "    image = cv2.imread(image_path, cv2.IMREAD_GRAYSCALE)\n",
    "    keypoints, descriptors = sift.detectAndCompute(image, None)\n",
    "    return keypoints, descriptors\n",
    "\n",
    "# مثال لاستخراج السمات من صورة جديدة\n",
    "new_image_path = \"66.jpg\"\n",
    "new_keypoints, new_descriptors = extract_features(new_image_path)"
   ]
  },
  {
   "cell_type": "code",
   "execution_count": 14,
   "metadata": {},
   "outputs": [
    {
     "name": "stdout",
     "output_type": "stream",
     "text": [
      "Skelflex.jpg\n"
     ]
    }
   ],
   "source": [
    "# إعداد مطابقة FLANN\n",
    "FLANN_INDEX_KDTREE = 1\n",
    "index_params = dict(algorithm=FLANN_INDEX_KDTREE, trees=5)\n",
    "search_params = dict(checks=50)\n",
    "\n",
    "flann = cv2.FlannBasedMatcher(index_params, search_params)\n",
    "\n",
    "# استرجاع جميع السمات من قاعدة البيانات\n",
    "database_features = get_all_features_from_db()\n",
    "\n",
    "# إيجاد أفضل المطابقات لكل صورة في قاعدة البيانات\n",
    "best_match = None\n",
    "best_match_count = 0\n",
    "\n",
    "for image_name, db_keypoints, db_descriptors in database_features:\n",
    "    if db_descriptors is not None and new_descriptors is not None:\n",
    "        matches = flann.knnMatch(new_descriptors, db_descriptors, k=2)\n",
    "\n",
    "        # تطبيق نسبة اختبار لوي\n",
    "        good_matches = []\n",
    "        for m, n in matches:\n",
    "            if m.distance < 0.7 * n.distance:\n",
    "                good_matches.append(m)\n",
    "\n",
    "        # تحديث أفضل مطابقة بناءً على عدد المطابقات الجيدة\n",
    "        if len(good_matches) > best_match_count:\n",
    "            best_match_count = len(good_matches)\n",
    "            best_match = image_name\n",
    "\n",
    "# عرض النتيجة\n",
    "if best_match:\n",
    "    print(best_match)\n",
    "else:\n",
    "    print(\"لم يتم العثور على مطابقات جيدة.\")"
   ]
  }
 ],
 "metadata": {
  "kernelspec": {
   "display_name": "nural_network",
   "language": "python",
   "name": "python3"
  },
  "language_info": {
   "codemirror_mode": {
    "name": "ipython",
    "version": 3
   },
   "file_extension": ".py",
   "mimetype": "text/x-python",
   "name": "python",
   "nbconvert_exporter": "python",
   "pygments_lexer": "ipython3",
   "version": "3.10.13"
  }
 },
 "nbformat": 4,
 "nbformat_minor": 2
}
